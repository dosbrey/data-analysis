{
 "cells": [
  {
   "cell_type": "code",
   "execution_count": 8,
   "id": "13474692",
   "metadata": {},
   "outputs": [
    {
     "data": {
      "text/plain": [
       "['in stock', 8, 99.99]"
      ]
     },
     "execution_count": 8,
     "metadata": {},
     "output_type": "execute_result"
    }
   ],
   "source": [
    "inventory = {'snowboards': ['in stock', 10, 549.99],\n",
    "            'skis': ['not in stock', 0, 349.99],\n",
    "            'boots': ['in stock', 25, 59.99],\n",
    "            'goggles': ['in stock', 8, 99.99]}\n",
    "\n",
    "inventory['goggles']"
   ]
  },
  {
   "cell_type": "code",
   "execution_count": 9,
   "id": "7f0111d4",
   "metadata": {},
   "outputs": [],
   "source": [
    "inventory['gloves'] = ['not in stock', 0, 34.99]"
   ]
  },
  {
   "cell_type": "code",
   "execution_count": 10,
   "id": "aed5eb68",
   "metadata": {},
   "outputs": [
    {
     "data": {
      "text/plain": [
       "{'snowboards': ['in stock', 10, 549.99],\n",
       " 'skis': ['not in stock', 0, 349.99],\n",
       " 'boots': ['in stock', 25, 59.99],\n",
       " 'goggles': ['in stock', 8, 99.99],\n",
       " 'gloves': ['not in stock', 0, 34.99]}"
      ]
     },
     "execution_count": 10,
     "metadata": {},
     "output_type": "execute_result"
    }
   ],
   "source": [
    "inventory"
   ]
  },
  {
   "cell_type": "code",
   "execution_count": 11,
   "id": "7b7ca553",
   "metadata": {},
   "outputs": [],
   "source": [
    "del inventory['boots']"
   ]
  },
  {
   "cell_type": "code",
   "execution_count": 12,
   "id": "ccc84a0d",
   "metadata": {},
   "outputs": [
    {
     "data": {
      "text/plain": [
       "{'snowboards': ['in stock', 10, 549.99],\n",
       " 'skis': ['not in stock', 0, 349.99],\n",
       " 'goggles': ['in stock', 8, 99.99],\n",
       " 'gloves': ['not in stock', 0, 34.99]}"
      ]
     },
     "execution_count": 12,
     "metadata": {},
     "output_type": "execute_result"
    }
   ],
   "source": [
    "inventory"
   ]
  },
  {
   "cell_type": "code",
   "execution_count": 13,
   "id": "a62440ec",
   "metadata": {},
   "outputs": [
    {
     "data": {
      "text/plain": [
       "{'pothos': 12.99, 'fern': 11.99, 'snake': 14.99}"
      ]
     },
     "execution_count": 13,
     "metadata": {},
     "output_type": "execute_result"
    }
   ],
   "source": [
    "items_and_prices = {'pothos': 12.99,\n",
    "                   'fern': 11.99,\n",
    "                   'snake': 14.99}\n",
    "items_and_prices"
   ]
  },
  {
   "cell_type": "code",
   "execution_count": 14,
   "id": "9576ad95",
   "metadata": {},
   "outputs": [],
   "source": [
    "new_items1 = ['bush', 'bamboo', 'cactus']\n",
    "new_prices1 = [29.99, 4.99, 13.99]"
   ]
  },
  {
   "cell_type": "code",
   "execution_count": 17,
   "id": "a98d173f",
   "metadata": {},
   "outputs": [],
   "source": [
    "for i, items in enumerate(new_items1):\n",
    "    items_and_prices[items] = new_prices1[i]"
   ]
  },
  {
   "cell_type": "code",
   "execution_count": 18,
   "id": "7531d2bd",
   "metadata": {},
   "outputs": [
    {
     "data": {
      "text/plain": [
       "{'pothos': 12.99,\n",
       " 'fern': 11.99,\n",
       " 'snake': 14.99,\n",
       " 'bush': 29.99,\n",
       " 'bamboo': 4.99,\n",
       " 'cactus': 13.99}"
      ]
     },
     "execution_count": 18,
     "metadata": {},
     "output_type": "execute_result"
    }
   ],
   "source": [
    "items_and_prices"
   ]
  },
  {
   "cell_type": "code",
   "execution_count": null,
   "id": "0d221f3a",
   "metadata": {},
   "outputs": [],
   "source": []
  }
 ],
 "metadata": {
  "kernelspec": {
   "display_name": "Python 3 (ipykernel)",
   "language": "python",
   "name": "python3"
  },
  "language_info": {
   "codemirror_mode": {
    "name": "ipython",
    "version": 3
   },
   "file_extension": ".py",
   "mimetype": "text/x-python",
   "name": "python",
   "nbconvert_exporter": "python",
   "pygments_lexer": "ipython3",
   "version": "3.10.9"
  }
 },
 "nbformat": 4,
 "nbformat_minor": 5
}
