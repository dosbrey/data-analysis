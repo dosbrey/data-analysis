{
 "cells": [
  {
   "cell_type": "code",
   "execution_count": 1,
   "id": "2dc227f5",
   "metadata": {},
   "outputs": [
    {
     "data": {
      "text/plain": [
       "dict_items([('hotdog', [3.99, 430]), ('hamburger', [5.99, 342]), ('water bottle', [1.99, 588]), ('bag of chips', [2.99, 367])])"
      ]
     },
     "execution_count": 1,
     "metadata": {},
     "output_type": "execute_result"
    }
   ],
   "source": [
    "item_details = {'hotdog': [3.99, 430],\n",
    "               'hamburger': [5.99, 342],\n",
    "               'water bottle': [1.99, 588], \n",
    "               'bag of chips': [2.99, 367]\n",
    "               }\n",
    "\n",
    "item_details.items()"
   ]
  },
  {
   "cell_type": "code",
   "execution_count": 2,
   "id": "d0e1a2aa",
   "metadata": {},
   "outputs": [
    {
     "name": "stdout",
     "output_type": "stream",
     "text": [
      "A hotdog costs $3.99 and we have 430 in stock.\n",
      "A hamburger costs $5.99 and we have 342 in stock.\n",
      "A water bottle costs $1.99 and we have 588 in stock.\n",
      "A bag of chips costs $2.99 and we have 367 in stock.\n"
     ]
    }
   ],
   "source": [
    "for key, value in item_details.items():\n",
    "    print(f'A {key} costs ${value[0]} and we have {value[1]} in stock.')"
   ]
  },
  {
   "cell_type": "code",
   "execution_count": 3,
   "id": "2086ff21",
   "metadata": {},
   "outputs": [
    {
     "name": "stdout",
     "output_type": "stream",
     "text": [
      "If we sell all the hotdogs, we will make $1715.7!\n",
      "If we sell all the hamburgers, we will make $2048.58!\n",
      "If we sell all the water bottles, we will make $1170.12!\n",
      "If we sell all the bags of chips, we will make $1097.33!\n",
      "If we sell everything, we will make $6031.73!\n"
     ]
    }
   ],
   "source": [
    "for key, value in item_details.items():\n",
    "    if key == 'bag of chips':\n",
    "        print(f'If we sell all the bags of chips, we will make ${round(value[0] * value[1], 2)}!')\n",
    "    else:\n",
    "        print(f'If we sell all the {key}s, we will make ${round(value[0] * value[1], 2)}!')\n",
    "\n",
    "total_revenue = []\n",
    "\n",
    "for key, value in item_details.items():\n",
    "    total_revenue.append(round(value[0] * value[1], 2))\n",
    "\n",
    "print(f'If we sell everything, we will make ${sum(total_revenue)}!')"
   ]
  },
  {
   "cell_type": "code",
   "execution_count": null,
   "id": "d0f5b9aa",
   "metadata": {},
   "outputs": [],
   "source": []
  }
 ],
 "metadata": {
  "kernelspec": {
   "display_name": "Python 3 (ipykernel)",
   "language": "python",
   "name": "python3"
  },
  "language_info": {
   "codemirror_mode": {
    "name": "ipython",
    "version": 3
   },
   "file_extension": ".py",
   "mimetype": "text/x-python",
   "name": "python",
   "nbconvert_exporter": "python",
   "pygments_lexer": "ipython3",
   "version": "3.10.9"
  }
 },
 "nbformat": 4,
 "nbformat_minor": 5
}
