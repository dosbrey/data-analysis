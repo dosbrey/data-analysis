{
 "cells": [
  {
   "cell_type": "code",
   "execution_count": 11,
   "id": "11bbdd9d",
   "metadata": {},
   "outputs": [
    {
     "name": "stdout",
     "output_type": "stream",
     "text": [
      "this is for a beginner\n"
     ]
    }
   ],
   "source": [
    "price = 100\n",
    "intermed = 200\n",
    "expert= 300\n",
    "master = 400\n",
    "guru = 500\n",
    "\n",
    "if price >= guru:\n",
    "    print(\"this is for a guru\")\n",
    "elif price >= master:\n",
    "    print(\"this is for a master\")\n",
    "elif price >= expert:\n",
    "    print(\"this is for an expert\")\n",
    "elif price >= intermed:\n",
    "    print(\"this is for an intermed\")\n",
    "else: print(\"this is for a beginner\")"
   ]
  },
  {
   "cell_type": "code",
   "execution_count": 23,
   "id": "31a02cfc",
   "metadata": {},
   "outputs": [
    {
     "name": "stdout",
     "output_type": "stream",
     "text": [
      "idk you, no\n"
     ]
    }
   ],
   "source": [
    "inventory = 40\n",
    "name = 'beeb'\n",
    "\n",
    "if inventory >= 0:\n",
    "    if name == 'boob':\n",
    "        print('you can have it')\n",
    "    else:\n",
    "        print('idk you, no')\n",
    "else:\n",
    "    print('nah, we have none')"
   ]
  },
  {
   "cell_type": "code",
   "execution_count": null,
   "id": "e4986e0b",
   "metadata": {},
   "outputs": [],
   "source": []
  }
 ],
 "metadata": {
  "kernelspec": {
   "display_name": "Python 3",
   "language": "python",
   "name": "python3"
  },
  "language_info": {
   "codemirror_mode": {
    "name": "ipython",
    "version": 3
   },
   "file_extension": ".py",
   "mimetype": "text/x-python",
   "name": "python",
   "nbconvert_exporter": "python",
   "pygments_lexer": "ipython3",
   "version": "3.11.2 (v3.11.2:878ead1ac1, Feb  7 2023, 10:02:41) [Clang 13.0.0 (clang-1300.0.29.30)]"
  },
  "vscode": {
   "interpreter": {
    "hash": "aee8b7b246df8f9039afb4144a1f6fd8d2ca17a180786b69acc140d282b71a49"
   }
  }
 },
 "nbformat": 4,
 "nbformat_minor": 5
}
