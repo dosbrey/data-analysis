{
 "cells": [
  {
   "cell_type": "code",
   "execution_count": 1,
   "id": "416a79c3",
   "metadata": {},
   "outputs": [
    {
     "name": "stdout",
     "output_type": "stream",
     "text": [
      "Snowboards are availible in a small size!\n",
      "Snowboards are availible in a medium size!\n",
      "Snowboards are availible in a large size!\n",
      "Boots are availible in a small size!\n",
      "Boots are availible in a medium size!\n",
      "Boots are availible in a large size!\n"
     ]
    }
   ],
   "source": [
    "item_list = ['Snowboard', 'Boot']\n",
    "size_list = ['small', 'medium', 'large']\n",
    "\n",
    "for item in item_list:\n",
    "    for size in size_list:\n",
    "        print(f'{item}s are availible in a {size} size!')"
   ]
  },
  {
   "cell_type": "code",
   "execution_count": 2,
   "id": "a8db8b9b",
   "metadata": {},
   "outputs": [],
   "source": [
    "items = ['skis', 'snowboards', 'goggles', 'boots']\n",
    "item_reviews = [\n",
    "    ['5 stars', '1 star', '3 stars'],\n",
    "    ['5 stars', '4 stars'],\n",
    "    ['4 stars', '2 stars'],\n",
    "    ['1 star']\n",
    "]"
   ]
  },
  {
   "cell_type": "code",
   "execution_count": 12,
   "id": "2586a2c0",
   "metadata": {},
   "outputs": [
    {
     "data": {
      "text/plain": [
       "[[5, 1, 3], [5, 4], [4, 2], [1]]"
      ]
     },
     "execution_count": 12,
     "metadata": {},
     "output_type": "execute_result"
    }
   ],
   "source": [
    "item_reviews_numeric = []\n",
    "\n",
    "for item in item_reviews:\n",
    "    integer_ratings = []\n",
    "    for review in item:\n",
    "        integer_rating = int(review[0])\n",
    "        integer_ratings.append(integer_rating)\n",
    "    item_reviews_numeric.append(integer_ratings)\n",
    "    \n",
    "item_reviews_numeric"
   ]
  },
  {
   "cell_type": "code",
   "execution_count": 10,
   "id": "c848895a",
   "metadata": {},
   "outputs": [
    {
     "name": "stdout",
     "output_type": "stream",
     "text": [
      "3.0\n",
      "4.5\n",
      "3.0\n",
      "1.0\n"
     ]
    }
   ],
   "source": [
    "for item in item_reviews_numeric:\n",
    "    print(sum(item) / len(item))"
   ]
  },
  {
   "cell_type": "code",
   "execution_count": null,
   "id": "8b9fd963",
   "metadata": {},
   "outputs": [],
   "source": []
  }
 ],
 "metadata": {
  "kernelspec": {
   "display_name": "Python 3 (ipykernel)",
   "language": "python",
   "name": "python3"
  },
  "language_info": {
   "codemirror_mode": {
    "name": "ipython",
    "version": 3
   },
   "file_extension": ".py",
   "mimetype": "text/x-python",
   "name": "python",
   "nbconvert_exporter": "python",
   "pygments_lexer": "ipython3",
   "version": "3.10.9"
  }
 },
 "nbformat": 4,
 "nbformat_minor": 5
}
