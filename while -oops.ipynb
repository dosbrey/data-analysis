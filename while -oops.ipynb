{
 "cells": [
  {
   "cell_type": "code",
   "execution_count": 1,
   "id": "4b82d16f",
   "metadata": {},
   "outputs": [
    {
     "name": "stdout",
     "output_type": "stream",
     "text": [
      "1\n",
      "2\n",
      "3\n",
      "4\n",
      "5\n",
      "6\n",
      "7\n",
      "8\n",
      "9\n",
      "10\n"
     ]
    }
   ],
   "source": [
    "counter = 0\n",
    "while counter < 10:\n",
    "    counter += 1\n",
    "    print(counter)"
   ]
  },
  {
   "cell_type": "code",
   "execution_count": 2,
   "id": "263000ec",
   "metadata": {},
   "outputs": [
    {
     "name": "stdout",
     "output_type": "stream",
     "text": [
      "At the end of year 1: my balance will be $840000.0.\n",
      "At the end of year 2: my balance will be $882000.0.\n",
      "At the end of year 3: my balance will be $926100.0.\n",
      "At the end of year 4: my balance will be $972405.0.\n",
      "At the end of year 5: my balance will be $1021025.25.\n"
     ]
    }
   ],
   "source": [
    "stock_portfolio = 800000\n",
    "year = 0\n",
    "\n",
    "while stock_portfolio < 1000000:\n",
    "    investment_portfolio = stock_portfolio * 0.05\n",
    "    stock_portfolio += investment_portfolio\n",
    "    year += 1\n",
    "    print(\n",
    "    f'At the end of year {year}: my balance will be ${round(stock_portfolio,2)}.')"
   ]
  },
  {
   "cell_type": "code",
   "execution_count": 3,
   "id": "6be17419",
   "metadata": {},
   "outputs": [
    {
     "name": "stdout",
     "output_type": "stream",
     "text": [
      "At the end of month 1, my balance will be $4000.\n",
      "At the end of month 2, my balance will be $3000.\n",
      "At the end of month 3, my balance will be $2000.\n",
      "At the end of month 4, my balance will be $1000.\n",
      "At the end of month 5, my balance will be $0.\n"
     ]
    }
   ],
   "source": [
    "bank_balance = 5000\n",
    "month = 0\n",
    "\n",
    "while bank_balance > 0:\n",
    "    spending = 1000\n",
    "    bank_balance -= spending\n",
    "    month += 1\n",
    "    print(\n",
    "    f'At the end of month {month}, my balance will be ${bank_balance}.')"
   ]
  },
  {
   "cell_type": "code",
   "execution_count": null,
   "id": "91c5ccb1",
   "metadata": {},
   "outputs": [],
   "source": []
  }
 ],
 "metadata": {
  "kernelspec": {
   "display_name": "Python 3 (ipykernel)",
   "language": "python",
   "name": "python3"
  },
  "language_info": {
   "codemirror_mode": {
    "name": "ipython",
    "version": 3
   },
   "file_extension": ".py",
   "mimetype": "text/x-python",
   "name": "python",
   "nbconvert_exporter": "python",
   "pygments_lexer": "ipython3",
   "version": "3.10.9"
  }
 },
 "nbformat": 4,
 "nbformat_minor": 5
}
