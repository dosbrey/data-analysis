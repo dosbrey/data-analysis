{
 "cells": [
  {
   "cell_type": "code",
   "execution_count": 1,
   "id": "a6506698",
   "metadata": {},
   "outputs": [],
   "source": [
    "items = ['skis', 'snowboards', 'goggles', 'boots']\n",
    "item_details = [[3,55.00], [0,99.00], [4,20.00], [0,40.00]]"
   ]
  },
  {
   "cell_type": "code",
   "execution_count": 2,
   "id": "57dde679",
   "metadata": {},
   "outputs": [
    {
     "data": {
      "text/plain": [
       "[0, 99.0]"
      ]
     },
     "execution_count": 2,
     "metadata": {},
     "output_type": "execute_result"
    }
   ],
   "source": [
    "item_details[1]"
   ]
  },
  {
   "cell_type": "code",
   "execution_count": 4,
   "id": "2e6bef01",
   "metadata": {},
   "outputs": [
    {
     "data": {
      "text/plain": [
       "99.0"
      ]
     },
     "execution_count": 4,
     "metadata": {},
     "output_type": "execute_result"
    }
   ],
   "source": [
    "item_details[1][1]"
   ]
  },
  {
   "cell_type": "code",
   "execution_count": 6,
   "id": "1fb24488",
   "metadata": {},
   "outputs": [
    {
     "data": {
      "text/plain": [
       "60.5"
      ]
     },
     "execution_count": 6,
     "metadata": {},
     "output_type": "execute_result"
    }
   ],
   "source": [
    "round(item_details[0][1] * 1.1,2)"
   ]
  },
  {
   "cell_type": "code",
   "execution_count": 7,
   "id": "97c4f5de",
   "metadata": {},
   "outputs": [
    {
     "data": {
      "text/plain": [
       "[[3, 55.0], [0, 99.0], [4, 20.0], [0, 40.0]]"
      ]
     },
     "execution_count": 7,
     "metadata": {},
     "output_type": "execute_result"
    }
   ],
   "source": [
    "winter_details = item_details\n",
    "\n",
    "winter_details"
   ]
  },
  {
   "cell_type": "code",
   "execution_count": 8,
   "id": "f6434862",
   "metadata": {},
   "outputs": [
    {
     "data": {
      "text/plain": [
       "[[200, 60.5], [0, 99.0], [4, 20.0], [0, 40.0]]"
      ]
     },
     "execution_count": 8,
     "metadata": {},
     "output_type": "execute_result"
    }
   ],
   "source": [
    "winter_details[0] = [200, 60.5]\n",
    "winter_details"
   ]
  },
  {
   "cell_type": "code",
   "execution_count": 9,
   "id": "7b1a5e6b",
   "metadata": {},
   "outputs": [
    {
     "data": {
      "text/plain": [
       "[[200, 60.5], [0, 99.0], [4, 20.0], [0, 40.0]]"
      ]
     },
     "execution_count": 9,
     "metadata": {},
     "output_type": "execute_result"
    }
   ],
   "source": [
    "item_details"
   ]
  },
  {
   "cell_type": "code",
   "execution_count": 10,
   "id": "1001b656",
   "metadata": {},
   "outputs": [],
   "source": [
    "item_details = [[3,55.00], [0,99.00], [4,20.00], [0,40.00]]"
   ]
  },
  {
   "cell_type": "code",
   "execution_count": 11,
   "id": "16439c47",
   "metadata": {},
   "outputs": [
    {
     "data": {
      "text/plain": [
       "[[3, 55.0], [0, 99.0], [4, 20.0], [0, 40.0]]"
      ]
     },
     "execution_count": 11,
     "metadata": {},
     "output_type": "execute_result"
    }
   ],
   "source": [
    "winter_details = item_details.copy()\n",
    "winter_details"
   ]
  },
  {
   "cell_type": "code",
   "execution_count": 12,
   "id": "9de7311c",
   "metadata": {},
   "outputs": [
    {
     "data": {
      "text/plain": [
       "[[200, 60.5], [0, 99.0], [4, 20.0], [0, 40.0]]"
      ]
     },
     "execution_count": 12,
     "metadata": {},
     "output_type": "execute_result"
    }
   ],
   "source": [
    "winter_details[0] = [200, 60.5]\n",
    "winter_details"
   ]
  },
  {
   "cell_type": "code",
   "execution_count": 13,
   "id": "9499d8c8",
   "metadata": {},
   "outputs": [
    {
     "data": {
      "text/plain": [
       "[[3, 55.0], [0, 99.0], [4, 20.0], [0, 40.0]]"
      ]
     },
     "execution_count": 13,
     "metadata": {},
     "output_type": "execute_result"
    }
   ],
   "source": [
    "item_details"
   ]
  },
  {
   "cell_type": "code",
   "execution_count": 14,
   "id": "57b07045",
   "metadata": {},
   "outputs": [
    {
     "data": {
      "text/plain": [
       "[[200, 60.5], [70, 99.0], [4, 20.0], [0, 40.0]]"
      ]
     },
     "execution_count": 14,
     "metadata": {},
     "output_type": "execute_result"
    }
   ],
   "source": [
    "winter_details[1][0] = 70\n",
    "winter_details"
   ]
  },
  {
   "cell_type": "code",
   "execution_count": 15,
   "id": "fcf0c00f",
   "metadata": {},
   "outputs": [
    {
     "data": {
      "text/plain": [
       "[[3, 55.0], [70, 99.0], [4, 20.0], [0, 40.0]]"
      ]
     },
     "execution_count": 15,
     "metadata": {},
     "output_type": "execute_result"
    }
   ],
   "source": [
    "item_details"
   ]
  },
  {
   "cell_type": "code",
   "execution_count": 16,
   "id": "90dd457c",
   "metadata": {},
   "outputs": [],
   "source": [
    "item_details = [[3,55.00], [0,99.00], [4,20.00], [0,40.00]]"
   ]
  },
  {
   "cell_type": "code",
   "execution_count": 17,
   "id": "1649dcf1",
   "metadata": {},
   "outputs": [],
   "source": [
    "from copy import deepcopy"
   ]
  },
  {
   "cell_type": "code",
   "execution_count": 18,
   "id": "1afbc355",
   "metadata": {},
   "outputs": [
    {
     "data": {
      "text/plain": [
       "[[3, 55.0], [0, 99.0], [4, 20.0], [0, 40.0]]"
      ]
     },
     "execution_count": 18,
     "metadata": {},
     "output_type": "execute_result"
    }
   ],
   "source": [
    "winter_details = deepcopy(item_details)\n",
    "winter_details"
   ]
  },
  {
   "cell_type": "code",
   "execution_count": 19,
   "id": "4621562a",
   "metadata": {},
   "outputs": [
    {
     "data": {
      "text/plain": [
       "[[200, 60.5], [0, 99.0], [4, 20.0], [0, 40.0]]"
      ]
     },
     "execution_count": 19,
     "metadata": {},
     "output_type": "execute_result"
    }
   ],
   "source": [
    "winter_details[0] = [200, 60.5]\n",
    "winter_details"
   ]
  },
  {
   "cell_type": "code",
   "execution_count": 20,
   "id": "adcab073",
   "metadata": {},
   "outputs": [
    {
     "data": {
      "text/plain": [
       "[[3, 55.0], [0, 99.0], [4, 20.0], [0, 40.0]]"
      ]
     },
     "execution_count": 20,
     "metadata": {},
     "output_type": "execute_result"
    }
   ],
   "source": [
    "item_details"
   ]
  },
  {
   "cell_type": "code",
   "execution_count": null,
   "id": "59c7ffe0",
   "metadata": {},
   "outputs": [],
   "source": []
  }
 ],
 "metadata": {
  "kernelspec": {
   "display_name": "Python 3 (ipykernel)",
   "language": "python",
   "name": "python3"
  },
  "language_info": {
   "codemirror_mode": {
    "name": "ipython",
    "version": 3
   },
   "file_extension": ".py",
   "mimetype": "text/x-python",
   "name": "python",
   "nbconvert_exporter": "python",
   "pygments_lexer": "ipython3",
   "version": "3.10.9"
  }
 },
 "nbformat": 4,
 "nbformat_minor": 5
}
