{
 "cells": [
  {
   "cell_type": "code",
   "execution_count": 2,
   "id": "ce490de1",
   "metadata": {},
   "outputs": [
    {
     "data": {
      "text/plain": [
       "[('coke', 1.99, 3), ('pepsi', 2.99, 5), ('sprite', 3.99, 7)]"
      ]
     },
     "execution_count": 2,
     "metadata": {},
     "output_type": "execute_result"
    }
   ],
   "source": [
    "item_list = ['coke', 'pepsi', 'sprite']\n",
    "item_price = [1.99, 2.99, 3.99]\n",
    "item_stock = [3, 5, 7]\n",
    "\n",
    "list(zip(item_list, item_price, item_stock))"
   ]
  }
 ],
 "metadata": {
  "kernelspec": {
   "display_name": "Python 3 (ipykernel)",
   "language": "python",
   "name": "python3"
  },
  "language_info": {
   "codemirror_mode": {
    "name": "ipython",
    "version": 3
   },
   "file_extension": ".py",
   "mimetype": "text/x-python",
   "name": "python",
   "nbconvert_exporter": "python",
   "pygments_lexer": "ipython3",
   "version": "3.10.9"
  }
 },
 "nbformat": 4,
 "nbformat_minor": 5
}
