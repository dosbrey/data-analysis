{
 "cells": [
  {
   "cell_type": "code",
   "execution_count": 1,
   "id": "dc678008",
   "metadata": {},
   "outputs": [
    {
     "data": {
      "text/plain": [
       "{'Italy': {'Roma': {'population': 500, 'gdp': 78},\n",
       "  'Firenze': {'population': 1000, 'gdp': 98}},\n",
       " 'England': {'London': {'population': 300, 'gdp': 88},\n",
       "  'Manchester': {'population': 788, 'gdp': 76}}}"
      ]
     },
     "execution_count": 1,
     "metadata": {},
     "output_type": "execute_result"
    }
   ],
   "source": [
    "economic_data = {\n",
    "    'Italy': {\n",
    "        'Roma': {'population': 500, 'gdp': 78},\n",
    "        'Firenze': {'population': 1000, 'gdp': 98},\n",
    "    },\n",
    "    'England': {\n",
    "        'London': {'population': 300, 'gdp': 88},\n",
    "        'Manchester': {'population': 788, 'gdp': 76},\n",
    "    }\n",
    "}\n",
    "\n",
    "economic_data"
   ]
  },
  {
   "cell_type": "code",
   "execution_count": 3,
   "id": "be7d1fbe",
   "metadata": {},
   "outputs": [
    {
     "data": {
      "text/plain": [
       "{'Roma': {'population': 500, 'gdp': 78},\n",
       " 'Firenze': {'population': 1000, 'gdp': 98}}"
      ]
     },
     "execution_count": 3,
     "metadata": {},
     "output_type": "execute_result"
    }
   ],
   "source": [
    "economic_data['Italy']"
   ]
  },
  {
   "cell_type": "code",
   "execution_count": 4,
   "id": "1e26c37f",
   "metadata": {},
   "outputs": [
    {
     "data": {
      "text/plain": [
       "{'population': 788, 'gdp': 76}"
      ]
     },
     "execution_count": 4,
     "metadata": {},
     "output_type": "execute_result"
    }
   ],
   "source": [
    "economic_data['England']['Manchester']"
   ]
  },
  {
   "cell_type": "code",
   "execution_count": 5,
   "id": "b6fad28b",
   "metadata": {},
   "outputs": [
    {
     "data": {
      "text/plain": [
       "788"
      ]
     },
     "execution_count": 5,
     "metadata": {},
     "output_type": "execute_result"
    }
   ],
   "source": [
    "economic_data['England']['Manchester']['population']"
   ]
  },
  {
   "cell_type": "code",
   "execution_count": 6,
   "id": "23327781",
   "metadata": {},
   "outputs": [
    {
     "data": {
      "text/plain": [
       "[500, 1000]"
      ]
     },
     "execution_count": 6,
     "metadata": {},
     "output_type": "execute_result"
    }
   ],
   "source": [
    "population = []\n",
    "\n",
    "for state in economic_data['Italy'].values():\n",
    "    population.append(state[\"population\"])\n",
    "population"
   ]
  },
  {
   "cell_type": "code",
   "execution_count": null,
   "id": "88878494",
   "metadata": {},
   "outputs": [],
   "source": []
  }
 ],
 "metadata": {
  "kernelspec": {
   "display_name": "Python 3 (ipykernel)",
   "language": "python",
   "name": "python3"
  },
  "language_info": {
   "codemirror_mode": {
    "name": "ipython",
    "version": 3
   },
   "file_extension": ".py",
   "mimetype": "text/x-python",
   "name": "python",
   "nbconvert_exporter": "python",
   "pygments_lexer": "ipython3",
   "version": "3.10.9"
  }
 },
 "nbformat": 4,
 "nbformat_minor": 5
}
