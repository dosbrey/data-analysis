{
 "cells": [
  {
   "cell_type": "code",
   "execution_count": 1,
   "id": "39f03773",
   "metadata": {},
   "outputs": [
    {
     "name": "stdout",
     "output_type": "stream",
     "text": [
      "snowboard boots helmet\n"
     ]
    }
   ],
   "source": [
    "item_list = ['snowboard', 'boots', 'helmet']\n",
    "s, b, h = item_list\n",
    "print(s,b,h)"
   ]
  },
  {
   "cell_type": "code",
   "execution_count": 2,
   "id": "6e131d64",
   "metadata": {},
   "outputs": [
    {
     "data": {
      "text/plain": [
       "False"
      ]
     },
     "execution_count": 2,
     "metadata": {},
     "output_type": "execute_result"
    }
   ],
   "source": [
    "'boots' not in item_list"
   ]
  },
  {
   "cell_type": "code",
   "execution_count": 3,
   "id": "7b1c9c42",
   "metadata": {},
   "outputs": [
    {
     "data": {
      "text/plain": [
       "'hle'"
      ]
     },
     "execution_count": 3,
     "metadata": {},
     "output_type": "execute_result"
    }
   ],
   "source": [
    "item_list[2][::2]"
   ]
  },
  {
   "cell_type": "code",
   "execution_count": 4,
   "id": "ef22b592",
   "metadata": {},
   "outputs": [
    {
     "data": {
      "text/plain": [
       "['coat', 'gloves', 'snowpants']"
      ]
     },
     "execution_count": 4,
     "metadata": {},
     "output_type": "execute_result"
    }
   ],
   "source": [
    "new_items = ['coat', 'backpack', 'snowpants']\n",
    "new_items[1] = 'gloves'\n",
    "new_items"
   ]
  },
  {
   "cell_type": "code",
   "execution_count": 5,
   "id": "26d1d877",
   "metadata": {},
   "outputs": [
    {
     "data": {
      "text/plain": [
       "['coat', 'gloves', 'snowpants', 'backpack']"
      ]
     },
     "execution_count": 5,
     "metadata": {},
     "output_type": "execute_result"
    }
   ],
   "source": [
    "new_items.append('backpack')\n",
    "new_items"
   ]
  },
  {
   "cell_type": "code",
   "execution_count": 6,
   "id": "3c598c01",
   "metadata": {},
   "outputs": [
    {
     "data": {
      "text/plain": [
       "['coat', 'gloves', 'hat', 'snowpants', 'backpack']"
      ]
     },
     "execution_count": 6,
     "metadata": {},
     "output_type": "execute_result"
    }
   ],
   "source": [
    "new_items.insert(2,'hat')\n",
    "new_items"
   ]
  },
  {
   "cell_type": "code",
   "execution_count": 7,
   "id": "667e450b",
   "metadata": {},
   "outputs": [
    {
     "data": {
      "text/plain": [
       "['snowboard',\n",
       " 'boots',\n",
       " 'helmet',\n",
       " 'coat',\n",
       " 'gloves',\n",
       " 'hat',\n",
       " 'snowpants',\n",
       " 'backpack']"
      ]
     },
     "execution_count": 7,
     "metadata": {},
     "output_type": "execute_result"
    }
   ],
   "source": [
    "all_items = item_list + new_items\n",
    "all_items"
   ]
  },
  {
   "cell_type": "code",
   "execution_count": 8,
   "id": "6baf149c",
   "metadata": {},
   "outputs": [
    {
     "data": {
      "text/plain": [
       "['snowboard', 'boots', 'helmet', 'hat', 'snowpants', 'backpack']"
      ]
     },
     "execution_count": 8,
     "metadata": {},
     "output_type": "execute_result"
    }
   ],
   "source": [
    "del all_items[3:5]\n",
    "all_items"
   ]
  },
  {
   "cell_type": "code",
   "execution_count": 9,
   "id": "39b53ab1",
   "metadata": {},
   "outputs": [
    {
     "data": {
      "text/plain": [
       "['snowboard', 'boots', 'helmet', 'snowpants', 'backpack']"
      ]
     },
     "execution_count": 9,
     "metadata": {},
     "output_type": "execute_result"
    }
   ],
   "source": [
    "all_items.remove('hat')\n",
    "all_items"
   ]
  },
  {
   "cell_type": "code",
   "execution_count": 11,
   "id": "d51060bc",
   "metadata": {},
   "outputs": [
    {
     "data": {
      "text/plain": [
       "12"
      ]
     },
     "execution_count": 11,
     "metadata": {},
     "output_type": "execute_result"
    }
   ],
   "source": [
    "transactions = [35, 76, 93, 23, 44, 83, 67, 43, 99, 80, 56, 34]\n",
    "len(transactions)"
   ]
  },
  {
   "cell_type": "code",
   "execution_count": 12,
   "id": "f20a0a7f",
   "metadata": {},
   "outputs": [
    {
     "data": {
      "text/plain": [
       "733"
      ]
     },
     "execution_count": 12,
     "metadata": {},
     "output_type": "execute_result"
    }
   ],
   "source": [
    "sum(transactions)"
   ]
  },
  {
   "cell_type": "code",
   "execution_count": 13,
   "id": "06d7e654",
   "metadata": {},
   "outputs": [
    {
     "data": {
      "text/plain": [
       "23"
      ]
     },
     "execution_count": 13,
     "metadata": {},
     "output_type": "execute_result"
    }
   ],
   "source": [
    "min(transactions)"
   ]
  },
  {
   "cell_type": "code",
   "execution_count": 14,
   "id": "62fc0724",
   "metadata": {},
   "outputs": [
    {
     "data": {
      "text/plain": [
       "99"
      ]
     },
     "execution_count": 14,
     "metadata": {},
     "output_type": "execute_result"
    }
   ],
   "source": [
    "max(transactions)"
   ]
  },
  {
   "cell_type": "code",
   "execution_count": 15,
   "id": "cd4cd740",
   "metadata": {},
   "outputs": [
    {
     "data": {
      "text/plain": [
       "61.083333333333336"
      ]
     },
     "execution_count": 15,
     "metadata": {},
     "output_type": "execute_result"
    }
   ],
   "source": [
    "mean_transactions = sum(transactions) / len(transactions)\n",
    "mean_transactions"
   ]
  },
  {
   "cell_type": "code",
   "execution_count": 17,
   "id": "5a117cb8",
   "metadata": {},
   "outputs": [
    {
     "data": {
      "text/plain": [
       "[23, 34, 35, 43, 44, 56, 67, 76, 80, 83, 93, 99]"
      ]
     },
     "execution_count": 17,
     "metadata": {},
     "output_type": "execute_result"
    }
   ],
   "source": [
    "sorted(transactions)"
   ]
  },
  {
   "cell_type": "code",
   "execution_count": 19,
   "id": "51eba910",
   "metadata": {},
   "outputs": [
    {
     "data": {
      "text/plain": [
       "[23, 34, 35, 43, 44, 56, 67, 76, 80, 83, 93, 99]"
      ]
     },
     "execution_count": 19,
     "metadata": {},
     "output_type": "execute_result"
    }
   ],
   "source": [
    "transactions.sort()\n",
    "transactions"
   ]
  },
  {
   "cell_type": "code",
   "execution_count": 20,
   "id": "b8199a6e",
   "metadata": {},
   "outputs": [
    {
     "data": {
      "text/plain": [
       "4"
      ]
     },
     "execution_count": 20,
     "metadata": {},
     "output_type": "execute_result"
    }
   ],
   "source": [
    "transactions.index(44)"
   ]
  },
  {
   "cell_type": "code",
   "execution_count": 21,
   "id": "571fe4fd",
   "metadata": {},
   "outputs": [
    {
     "data": {
      "text/plain": [
       "[99, 93, 83, 80, 76, 67, 56, 44, 43, 35, 34, 23]"
      ]
     },
     "execution_count": 21,
     "metadata": {},
     "output_type": "execute_result"
    }
   ],
   "source": [
    "transactions.reverse()\n",
    "transactions"
   ]
  },
  {
   "cell_type": "code",
   "execution_count": 22,
   "id": "9b6db9cd",
   "metadata": {},
   "outputs": [
    {
     "data": {
      "text/plain": [
       "['C0001', 'C00002', 'C0004', 'C0004', 'C0004', 'C0006']"
      ]
     },
     "execution_count": 22,
     "metadata": {},
     "output_type": "execute_result"
    }
   ],
   "source": [
    "customer_ids = ['C0001', 'C00002', 'C0004', 'C0004', 'C0004', 'C0006']\n",
    "customer_ids"
   ]
  },
  {
   "cell_type": "code",
   "execution_count": 23,
   "id": "14af0613",
   "metadata": {},
   "outputs": [
    {
     "data": {
      "text/plain": [
       "3"
      ]
     },
     "execution_count": 23,
     "metadata": {},
     "output_type": "execute_result"
    }
   ],
   "source": [
    "customer_ids.count('C0004')"
   ]
  },
  {
   "cell_type": "code",
   "execution_count": 24,
   "id": "84e2cd76",
   "metadata": {},
   "outputs": [
    {
     "data": {
      "text/plain": [
       "6"
      ]
     },
     "execution_count": 24,
     "metadata": {},
     "output_type": "execute_result"
    }
   ],
   "source": [
    "len(customer_ids)"
   ]
  },
  {
   "cell_type": "code",
   "execution_count": 25,
   "id": "b9bfc6e9",
   "metadata": {},
   "outputs": [
    {
     "data": {
      "text/plain": [
       "0.5"
      ]
     },
     "execution_count": 25,
     "metadata": {},
     "output_type": "execute_result"
    }
   ],
   "source": [
    "customer_ids.count('C0004') / len(customer_ids)"
   ]
  },
  {
   "cell_type": "code",
   "execution_count": 31,
   "id": "6b3b443d",
   "metadata": {},
   "outputs": [
    {
     "data": {
      "text/plain": [
       "['C0004']"
      ]
     },
     "execution_count": 31,
     "metadata": {},
     "output_type": "execute_result"
    }
   ],
   "source": [
    "vip_customers = []\n",
    "customer_id = 'C0004'\n",
    "\n",
    "if customer_ids.count(customer_id) / len(customer_ids) > .2:\n",
    "    vip_customers.append(customer_id)\n",
    "\n",
    "vip_customers"
   ]
  }
 ],
 "metadata": {
  "kernelspec": {
   "display_name": "Python 3 (ipykernel)",
   "language": "python",
   "name": "python3"
  },
  "language_info": {
   "codemirror_mode": {
    "name": "ipython",
    "version": 3
   },
   "file_extension": ".py",
   "mimetype": "text/x-python",
   "name": "python",
   "nbconvert_exporter": "python",
   "pygments_lexer": "ipython3",
   "version": "3.10.9"
  }
 },
 "nbformat": 4,
 "nbformat_minor": 5
}
