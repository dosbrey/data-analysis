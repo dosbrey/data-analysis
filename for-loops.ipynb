{
 "cells": [
  {
   "cell_type": "code",
   "execution_count": 1,
   "id": "73497d40",
   "metadata": {},
   "outputs": [
    {
     "data": {
      "text/plain": [
       "[1.75, 2.63, 3.51, 4.39, 5.27]"
      ]
     },
     "execution_count": 1,
     "metadata": {},
     "output_type": "execute_result"
    }
   ],
   "source": [
    "exchange_rate = 0.88\n",
    "usd_list = [1.99, 2.99, 3.99, 4.99, 5.99]\n",
    "\n",
    "euro_list = [round(usd_list[0] * exchange_rate, 2),\n",
    "             round(usd_list[1] * exchange_rate, 2),\n",
    "             round(usd_list[2] * exchange_rate, 2),\n",
    "             round(usd_list[3] * exchange_rate, 2),\n",
    "             round(usd_list[4] * exchange_rate, 2),]\n",
    "euro_list"
   ]
  },
  {
   "cell_type": "code",
   "execution_count": 2,
   "id": "837aec73",
   "metadata": {},
   "outputs": [
    {
     "name": "stdout",
     "output_type": "stream",
     "text": [
      "[1.75, 2.63, 3.51, 4.39, 5.27]\n"
     ]
    }
   ],
   "source": [
    "exchange_rate = 0.88\n",
    "usd_list = [1.99, 2.99, 3.99, 4.99, 5.99]\n",
    "euro_list = []\n",
    "\n",
    "for price in usd_list:\n",
    "    euro_list.append(round(price * exchange_rate, 2))\n",
    "\n",
    "print(euro_list)"
   ]
  },
  {
   "cell_type": "code",
   "execution_count": 3,
   "id": "5659b754",
   "metadata": {},
   "outputs": [
    {
     "data": {
      "text/plain": [
       "5"
      ]
     },
     "execution_count": 3,
     "metadata": {},
     "output_type": "execute_result"
    }
   ],
   "source": [
    "customer_ratings = ['5 stars', '3 stars', '4 stars', '2 stars', '5 stars',\n",
    "                   '2 stars', '1 star', '5 stars', '4 stars', '1 star']\n",
    "\n",
    "rating = int(customer_ratings[0][0])\n",
    "rating"
   ]
  },
  {
   "cell_type": "code",
   "execution_count": 4,
   "id": "69e10fbf",
   "metadata": {},
   "outputs": [
    {
     "data": {
      "text/plain": [
       "[5, 3, 4, 2, 5, 2, 1, 5, 4, 1]"
      ]
     },
     "execution_count": 4,
     "metadata": {},
     "output_type": "execute_result"
    }
   ],
   "source": [
    "numeric_ratings = []\n",
    "\n",
    "for rating in customer_ratings:\n",
    "    numeric_ratings.append(int(rating[0]))\n",
    "\n",
    "numeric_ratings"
   ]
  },
  {
   "cell_type": "code",
   "execution_count": 5,
   "id": "1ab8b5e1",
   "metadata": {},
   "outputs": [
    {
     "data": {
      "text/plain": [
       "3.2"
      ]
     },
     "execution_count": 5,
     "metadata": {},
     "output_type": "execute_result"
    }
   ],
   "source": [
    "sum(numeric_ratings) / len(numeric_ratings)"
   ]
  },
  {
   "cell_type": "code",
   "execution_count": 6,
   "id": "96f4482a",
   "metadata": {},
   "outputs": [
    {
     "data": {
      "text/plain": [
       "[1.75, 2.63, 3.51, 4.39, 5.27]"
      ]
     },
     "execution_count": 6,
     "metadata": {},
     "output_type": "execute_result"
    }
   ],
   "source": [
    "euro_list"
   ]
  },
  {
   "cell_type": "code",
   "execution_count": 7,
   "id": "be38e726",
   "metadata": {},
   "outputs": [],
   "source": [
    "item_list = ['Snowboard', 'Boots', 'Helmet', 'Googles', 'Bindigns']"
   ]
  },
  {
   "cell_type": "code",
   "execution_count": 8,
   "id": "c7715dc2",
   "metadata": {},
   "outputs": [
    {
     "name": "stdout",
     "output_type": "stream",
     "text": [
      "The snowboard costs 1.75 euros.\n",
      "The boots costs 2.63 euros.\n",
      "The helmet costs 3.51 euros.\n",
      "The googles costs 4.39 euros.\n",
      "The bindigns costs 5.27 euros.\n"
     ]
    }
   ],
   "source": [
    "for i in range(len(euro_list)):\n",
    "    print(f'The {item_list[i].lower()} costs {euro_list[i]} euros.')"
   ]
  },
  {
   "cell_type": "code",
   "execution_count": 9,
   "id": "06c9d03c",
   "metadata": {},
   "outputs": [
    {
     "name": "stdout",
     "output_type": "stream",
     "text": [
      "0 1.75\n",
      "1 2.63\n",
      "2 3.51\n",
      "3 4.39\n",
      "4 5.27\n"
     ]
    }
   ],
   "source": [
    "stock = [5, 4, 8, 9, 0]\n",
    "\n",
    "for index, element in enumerate(euro_list):\n",
    "    print(index, element)"
   ]
  },
  {
   "cell_type": "code",
   "execution_count": 10,
   "id": "f2513fad",
   "metadata": {},
   "outputs": [
    {
     "name": "stdout",
     "output_type": "stream",
     "text": [
      "Snowboard 1.75\n",
      "Boots 2.63\n",
      "Helmet 3.51\n",
      "Googles 4.39\n",
      "Bindigns 5.27\n"
     ]
    }
   ],
   "source": [
    "for i, price in enumerate(euro_list):\n",
    "    print(item_list[i], price)"
   ]
  },
  {
   "cell_type": "code",
   "execution_count": 11,
   "id": "82cb52a5",
   "metadata": {},
   "outputs": [
    {
     "name": "stdout",
     "output_type": "stream",
     "text": [
      "We have $598.0 worth of Keychains.\n",
      "We have $12649.77 worth of Snowboards.\n",
      "We have $11799.41 worth of Ski Poles.\n",
      "We have $5543.67 worth of Helmets.\n",
      "We have $6203.06 worth of Boots.\n",
      "We have $4688.66 worth of Gloves.\n"
     ]
    }
   ],
   "source": [
    "item_name = ['Keychain', 'Snowboard', 'Ski Pole', 'Helmet', 'Boot', 'Glove']\n",
    "item_inventory = [200, 23, 59, 33, 94, 134]\n",
    "item_price = [2.99, 549.99, 199.99, 167.99, 65.99, 34.99]\n",
    "inventory_values = []\n",
    "\n",
    "for i, inventory in enumerate(item_inventory):\n",
    "    inventory_value = round(item_price[i] * inventory, 2)\n",
    "    inventory_values.append(inventory_value)\n",
    "    print(f'We have ${inventory_value} worth of {item_name[i]}s.')"
   ]
  },
  {
   "cell_type": "code",
   "execution_count": 12,
   "id": "ecc2b202",
   "metadata": {},
   "outputs": [
    {
     "name": "stdout",
     "output_type": "stream",
     "text": [
      "Which means we have a total of $41482.57 of goods!\n"
     ]
    }
   ],
   "source": [
    "print(f'Which means we have a total of ${round(sum(inventory_values),2)} of goods!')"
   ]
  },
  {
   "cell_type": "code",
   "execution_count": null,
   "id": "6cbfdb90",
   "metadata": {},
   "outputs": [],
   "source": []
  }
 ],
 "metadata": {
  "kernelspec": {
   "display_name": "Python 3 (ipykernel)",
   "language": "python",
   "name": "python3"
  },
  "language_info": {
   "codemirror_mode": {
    "name": "ipython",
    "version": 3
   },
   "file_extension": ".py",
   "mimetype": "text/x-python",
   "name": "python",
   "nbconvert_exporter": "python",
   "pygments_lexer": "ipython3",
   "version": "3.10.9"
  }
 },
 "nbformat": 4,
 "nbformat_minor": 5
}
