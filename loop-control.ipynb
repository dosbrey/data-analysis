{
 "cells": [
  {
   "cell_type": "code",
   "execution_count": 1,
   "id": "eb6f30d0",
   "metadata": {},
   "outputs": [
    {
     "name": "stdout",
     "output_type": "stream",
     "text": [
      "56.99\n",
      "102.75\n",
      "126.62\n",
      "203.61\n"
     ]
    }
   ],
   "source": [
    "prices = [56.99, 45.76, 23.87, 76.99, 67.90, 53.78]\n",
    "revenue = 0\n",
    "\n",
    "for price in prices:\n",
    "    revenue += price\n",
    "    print(round(revenue, 2))\n",
    "    if revenue > 200:\n",
    "        break"
   ]
  },
  {
   "cell_type": "code",
   "execution_count": 2,
   "id": "3e5bb319",
   "metadata": {},
   "outputs": [
    {
     "data": {
      "text/plain": [
       "['snowboard-easy', 'snowboard-medium', 'snowboard-hard']"
      ]
     },
     "execution_count": 2,
     "metadata": {},
     "output_type": "execute_result"
    }
   ],
   "source": [
    "item_list = ['ski-easy', 'ski-hard', 'ski-medium', 'snowboard-easy', 'snowboard-medium', 'snowboard-hard']\n",
    "snowboards = []\n",
    "\n",
    "for item in item_list:\n",
    "    if 'ski' in item:\n",
    "        continue\n",
    "    snowboards.append(item)\n",
    "snowboards"
   ]
  },
  {
   "cell_type": "code",
   "execution_count": 3,
   "id": "58e39837",
   "metadata": {},
   "outputs": [
    {
     "name": "stdout",
     "output_type": "stream",
     "text": [
      "I can afford 8.0 of these!\n",
      "These are not prices\n",
      "I can afford 2.0 of these!\n",
      "These items are free, I can take as many as I like!\n",
      "These are not prices\n",
      "I can afford 50.0 of these!\n"
     ]
    }
   ],
   "source": [
    "price_list = [5.99, None, 17.99, 0, '74.99', 0.99]\n",
    "for price in price_list:\n",
    "    try:\n",
    "        affordable_quantity = 50//price #my budget is 50\n",
    "        print(f'I can afford {affordable_quantity} of these!')\n",
    "    except ZeroDivisionError:\n",
    "        print('These items are free, I can take as many as I like!')\n",
    "    except:\n",
    "        print('These are not prices')"
   ]
  },
  {
   "cell_type": "code",
   "execution_count": null,
   "id": "f64944c6",
   "metadata": {},
   "outputs": [],
   "source": []
  }
 ],
 "metadata": {
  "kernelspec": {
   "display_name": "Python 3 (ipykernel)",
   "language": "python",
   "name": "python3"
  },
  "language_info": {
   "codemirror_mode": {
    "name": "ipython",
    "version": 3
   },
   "file_extension": ".py",
   "mimetype": "text/x-python",
   "name": "python",
   "nbconvert_exporter": "python",
   "pygments_lexer": "ipython3",
   "version": "3.10.9"
  }
 },
 "nbformat": 4,
 "nbformat_minor": 5
}
